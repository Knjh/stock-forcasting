{
 "cells": [
  {
   "cell_type": "code",
   "execution_count": 6,
   "id": "aee22027",
   "metadata": {},
   "outputs": [],
   "source": [
    "key = 'ecaea19b034b935f723cc8db2df2dd3fbeef0792'"
   ]
  },
  {
   "cell_type": "code",
   "execution_count": 3,
   "id": "ab9d5f9a",
   "metadata": {},
   "outputs": [
    {
     "name": "stdout",
     "output_type": "stream",
     "text": [
      "Collecting pandas_datareader\n",
      "  Downloading pandas_datareader-0.10.0-py3-none-any.whl (109 kB)\n",
      "\u001b[2K     \u001b[38;2;114;156;31m━━━━━━━━━━━━━━━━━━━━━━━━━━━━━━━━━━━━━\u001b[0m \u001b[32m109.5/109.5 kB\u001b[0m \u001b[31m145.8 kB/s\u001b[0m eta \u001b[36m0:00:00\u001b[0m kB/s\u001b[0m eta \u001b[36m0:00:01\u001b[0m:01\u001b[0m\n",
      "\u001b[?25hRequirement already satisfied: lxml in /home/kanhaiya/anaconda3/lib/python3.11/site-packages (from pandas_datareader) (4.9.3)\n",
      "Requirement already satisfied: pandas>=0.23 in /home/kanhaiya/anaconda3/lib/python3.11/site-packages (from pandas_datareader) (2.0.3)\n",
      "Requirement already satisfied: requests>=2.19.0 in /home/kanhaiya/anaconda3/lib/python3.11/site-packages (from pandas_datareader) (2.31.0)\n",
      "Requirement already satisfied: python-dateutil>=2.8.2 in /home/kanhaiya/anaconda3/lib/python3.11/site-packages (from pandas>=0.23->pandas_datareader) (2.8.2)\n",
      "Requirement already satisfied: pytz>=2020.1 in /home/kanhaiya/anaconda3/lib/python3.11/site-packages (from pandas>=0.23->pandas_datareader) (2023.3.post1)\n",
      "Requirement already satisfied: tzdata>=2022.1 in /home/kanhaiya/anaconda3/lib/python3.11/site-packages (from pandas>=0.23->pandas_datareader) (2023.3)\n",
      "Requirement already satisfied: numpy>=1.21.0 in /home/kanhaiya/anaconda3/lib/python3.11/site-packages (from pandas>=0.23->pandas_datareader) (1.24.3)\n",
      "Requirement already satisfied: charset-normalizer<4,>=2 in /home/kanhaiya/anaconda3/lib/python3.11/site-packages (from requests>=2.19.0->pandas_datareader) (2.0.4)\n",
      "Requirement already satisfied: idna<4,>=2.5 in /home/kanhaiya/anaconda3/lib/python3.11/site-packages (from requests>=2.19.0->pandas_datareader) (3.4)\n",
      "Requirement already satisfied: urllib3<3,>=1.21.1 in /home/kanhaiya/anaconda3/lib/python3.11/site-packages (from requests>=2.19.0->pandas_datareader) (1.26.16)\n",
      "Requirement already satisfied: certifi>=2017.4.17 in /home/kanhaiya/anaconda3/lib/python3.11/site-packages (from requests>=2.19.0->pandas_datareader) (2023.7.22)\n",
      "Requirement already satisfied: six>=1.5 in /home/kanhaiya/anaconda3/lib/python3.11/site-packages (from python-dateutil>=2.8.2->pandas>=0.23->pandas_datareader) (1.16.0)\n",
      "Installing collected packages: pandas_datareader\n",
      "Successfully installed pandas_datareader-0.10.0\n",
      "\u001b[33mWARNING: There was an error checking the latest version of pip.\u001b[0m\u001b[33m\n",
      "\u001b[0m"
     ]
    }
   ],
   "source": [
    "!pip install pandas_datareader\n",
    "import pandas_datareader as pdr"
   ]
  },
  {
   "cell_type": "code",
   "execution_count": 22,
   "id": "32ea997a",
   "metadata": {},
   "outputs": [
    {
     "name": "stdout",
     "output_type": "stream",
     "text": [
      "                            close    high     low    open    volume  \\\n",
      "date                                                                  \n",
      "2018-01-02 00:00:00+00:00  172.26  172.30  169.26  170.16  25048048   \n",
      "2018-01-03 00:00:00+00:00  172.23  174.55  171.96  172.53  28819653   \n",
      "2018-01-04 00:00:00+00:00  173.03  173.47  172.08  172.54  22211345   \n",
      "2018-01-05 00:00:00+00:00  175.00  175.37  173.05  173.44  23016177   \n",
      "2018-01-08 00:00:00+00:00  174.35  175.61  173.93  174.35  20134092   \n",
      "\n",
      "                            adjClose    adjHigh     adjLow    adjOpen  \\\n",
      "date                                                                    \n",
      "2018-01-02 00:00:00+00:00  40.722078  40.731534  40.012881  40.225640   \n",
      "2018-01-03 00:00:00+00:00  40.714986  41.263431  40.651158  40.785906   \n",
      "2018-01-04 00:00:00+00:00  40.904105  41.008121  40.679526  40.788270   \n",
      "2018-01-05 00:00:00+00:00  41.369811  41.457279  40.908833  41.001029   \n",
      "2018-01-08 00:00:00+00:00  41.216152  41.514014  41.116864  41.216152   \n",
      "\n",
      "                           adjVolume  divCash  splitFactor  \n",
      "date                                                        \n",
      "2018-01-02 00:00:00+00:00  100192192      0.0          1.0  \n",
      "2018-01-03 00:00:00+00:00  115278612      0.0          1.0  \n",
      "2018-01-04 00:00:00+00:00   88845380      0.0          1.0  \n",
      "2018-01-05 00:00:00+00:00   92064708      0.0          1.0  \n",
      "2018-01-08 00:00:00+00:00   80536368      0.0          1.0  \n"
     ]
    }
   ],
   "source": [
    "\n",
    "from tiingo import TiingoClient\n",
    "config = {\n",
    "    'api_key': key,\n",
    "    'session': True\n",
    "}\n",
    "\n",
    "# Initialize Tiingo client\n",
    "client = TiingoClient(config)\n",
    "\n",
    "# Define the stock symbol and the time period\n",
    "symbol = 'AAPL'\n",
    "start_date = '2018-01-01'\n",
    "end_date = '2023-12-31'\n",
    "\n",
    "# Fetch historical data\n",
    "df = client.get_dataframe(symbol, startDate=start_date, endDate=end_date)\n",
    "\n",
    "# Display the dataframe\n",
    "print(df.head())"
   ]
  },
  {
   "cell_type": "code",
   "execution_count": 23,
   "id": "76546754",
   "metadata": {},
   "outputs": [],
   "source": [
    "df.to_csv('AAPL.csv')"
   ]
  },
  {
   "cell_type": "code",
   "execution_count": null,
   "id": "f3905665",
   "metadata": {},
   "outputs": [],
   "source": []
  },
  {
   "cell_type": "code",
   "execution_count": 24,
   "id": "01a78adf",
   "metadata": {},
   "outputs": [],
   "source": [
    "import pandas as pd\n",
    "import numpy as  np\n",
    "from matplotlib import pyplot as plt\n",
    "import seaborn as sns"
   ]
  },
  {
   "cell_type": "code",
   "execution_count": 25,
   "id": "315217a4",
   "metadata": {},
   "outputs": [],
   "source": [
    "df = pd.read_csv('AAPL.csv')"
   ]
  },
  {
   "cell_type": "code",
   "execution_count": 26,
   "id": "b69da3dd",
   "metadata": {
    "scrolled": true
   },
   "outputs": [
    {
     "data": {
      "text/html": [
       "<div>\n",
       "<style scoped>\n",
       "    .dataframe tbody tr th:only-of-type {\n",
       "        vertical-align: middle;\n",
       "    }\n",
       "\n",
       "    .dataframe tbody tr th {\n",
       "        vertical-align: top;\n",
       "    }\n",
       "\n",
       "    .dataframe thead th {\n",
       "        text-align: right;\n",
       "    }\n",
       "</style>\n",
       "<table border=\"1\" class=\"dataframe\">\n",
       "  <thead>\n",
       "    <tr style=\"text-align: right;\">\n",
       "      <th></th>\n",
       "      <th>date</th>\n",
       "      <th>close</th>\n",
       "      <th>high</th>\n",
       "      <th>low</th>\n",
       "      <th>open</th>\n",
       "      <th>volume</th>\n",
       "      <th>adjClose</th>\n",
       "      <th>adjHigh</th>\n",
       "      <th>adjLow</th>\n",
       "      <th>adjOpen</th>\n",
       "      <th>adjVolume</th>\n",
       "      <th>divCash</th>\n",
       "      <th>splitFactor</th>\n",
       "    </tr>\n",
       "  </thead>\n",
       "  <tbody>\n",
       "    <tr>\n",
       "      <th>0</th>\n",
       "      <td>2018-01-02 00:00:00+00:00</td>\n",
       "      <td>172.26</td>\n",
       "      <td>172.30</td>\n",
       "      <td>169.26</td>\n",
       "      <td>170.16</td>\n",
       "      <td>25048048</td>\n",
       "      <td>40.722078</td>\n",
       "      <td>40.731534</td>\n",
       "      <td>40.012881</td>\n",
       "      <td>40.225640</td>\n",
       "      <td>100192192</td>\n",
       "      <td>0.0</td>\n",
       "      <td>1.0</td>\n",
       "    </tr>\n",
       "    <tr>\n",
       "      <th>1</th>\n",
       "      <td>2018-01-03 00:00:00+00:00</td>\n",
       "      <td>172.23</td>\n",
       "      <td>174.55</td>\n",
       "      <td>171.96</td>\n",
       "      <td>172.53</td>\n",
       "      <td>28819653</td>\n",
       "      <td>40.714986</td>\n",
       "      <td>41.263431</td>\n",
       "      <td>40.651158</td>\n",
       "      <td>40.785906</td>\n",
       "      <td>115278612</td>\n",
       "      <td>0.0</td>\n",
       "      <td>1.0</td>\n",
       "    </tr>\n",
       "    <tr>\n",
       "      <th>2</th>\n",
       "      <td>2018-01-04 00:00:00+00:00</td>\n",
       "      <td>173.03</td>\n",
       "      <td>173.47</td>\n",
       "      <td>172.08</td>\n",
       "      <td>172.54</td>\n",
       "      <td>22211345</td>\n",
       "      <td>40.904105</td>\n",
       "      <td>41.008121</td>\n",
       "      <td>40.679526</td>\n",
       "      <td>40.788270</td>\n",
       "      <td>88845380</td>\n",
       "      <td>0.0</td>\n",
       "      <td>1.0</td>\n",
       "    </tr>\n",
       "    <tr>\n",
       "      <th>3</th>\n",
       "      <td>2018-01-05 00:00:00+00:00</td>\n",
       "      <td>175.00</td>\n",
       "      <td>175.37</td>\n",
       "      <td>173.05</td>\n",
       "      <td>173.44</td>\n",
       "      <td>23016177</td>\n",
       "      <td>41.369811</td>\n",
       "      <td>41.457279</td>\n",
       "      <td>40.908833</td>\n",
       "      <td>41.001029</td>\n",
       "      <td>92064708</td>\n",
       "      <td>0.0</td>\n",
       "      <td>1.0</td>\n",
       "    </tr>\n",
       "    <tr>\n",
       "      <th>4</th>\n",
       "      <td>2018-01-08 00:00:00+00:00</td>\n",
       "      <td>174.35</td>\n",
       "      <td>175.61</td>\n",
       "      <td>173.93</td>\n",
       "      <td>174.35</td>\n",
       "      <td>20134092</td>\n",
       "      <td>41.216152</td>\n",
       "      <td>41.514014</td>\n",
       "      <td>41.116864</td>\n",
       "      <td>41.216152</td>\n",
       "      <td>80536368</td>\n",
       "      <td>0.0</td>\n",
       "      <td>1.0</td>\n",
       "    </tr>\n",
       "  </tbody>\n",
       "</table>\n",
       "</div>"
      ],
      "text/plain": [
       "                        date   close    high     low    open    volume  \\\n",
       "0  2018-01-02 00:00:00+00:00  172.26  172.30  169.26  170.16  25048048   \n",
       "1  2018-01-03 00:00:00+00:00  172.23  174.55  171.96  172.53  28819653   \n",
       "2  2018-01-04 00:00:00+00:00  173.03  173.47  172.08  172.54  22211345   \n",
       "3  2018-01-05 00:00:00+00:00  175.00  175.37  173.05  173.44  23016177   \n",
       "4  2018-01-08 00:00:00+00:00  174.35  175.61  173.93  174.35  20134092   \n",
       "\n",
       "    adjClose    adjHigh     adjLow    adjOpen  adjVolume  divCash  splitFactor  \n",
       "0  40.722078  40.731534  40.012881  40.225640  100192192      0.0          1.0  \n",
       "1  40.714986  41.263431  40.651158  40.785906  115278612      0.0          1.0  \n",
       "2  40.904105  41.008121  40.679526  40.788270   88845380      0.0          1.0  \n",
       "3  41.369811  41.457279  40.908833  41.001029   92064708      0.0          1.0  \n",
       "4  41.216152  41.514014  41.116864  41.216152   80536368      0.0          1.0  "
      ]
     },
     "execution_count": 26,
     "metadata": {},
     "output_type": "execute_result"
    }
   ],
   "source": [
    "df.head()"
   ]
  },
  {
   "cell_type": "code",
   "execution_count": 27,
   "id": "c357fb85",
   "metadata": {},
   "outputs": [
    {
     "data": {
      "text/plain": [
       "(1509, 13)"
      ]
     },
     "execution_count": 27,
     "metadata": {},
     "output_type": "execute_result"
    }
   ],
   "source": [
    "df.shape"
   ]
  },
  {
   "cell_type": "code",
   "execution_count": 28,
   "id": "47f276c3",
   "metadata": {},
   "outputs": [],
   "source": [
    "df1  =  df.reset_index()['close']"
   ]
  },
  {
   "cell_type": "code",
   "execution_count": 29,
   "id": "59c5d5f8",
   "metadata": {},
   "outputs": [
    {
     "data": {
      "text/plain": [
       "0       172.26\n",
       "1       172.23\n",
       "2       173.03\n",
       "3       175.00\n",
       "4       174.35\n",
       "         ...  \n",
       "1504    193.60\n",
       "1505    193.05\n",
       "1506    193.15\n",
       "1507    193.58\n",
       "1508    192.53\n",
       "Name: close, Length: 1509, dtype: float64"
      ]
     },
     "execution_count": 29,
     "metadata": {},
     "output_type": "execute_result"
    }
   ],
   "source": [
    "df1"
   ]
  },
  {
   "cell_type": "code",
   "execution_count": 31,
   "id": "99aa430b",
   "metadata": {},
   "outputs": [
    {
     "data": {
      "text/plain": [
       "[<matplotlib.lines.Line2D at 0x7fde3217f390>]"
      ]
     },
     "execution_count": 31,
     "metadata": {},
     "output_type": "execute_result"
    },
    {
     "data": {
      "image/png": "[encoded data removed]",
      "text/plain": [
       "<Figure size 640x480 with 1 Axes>"
      ]
     },
     "metadata": {},
     "output_type": "display_data"
    }
   ],
   "source": [
    "plt.plot(df1)"
   ]
  },
  {
   "cell_type": "code",
   "execution_count": 30,
   "id": "bf1383c3",
   "metadata": {},
   "outputs": [],
   "source": [
    "from sklearn.preprocessing import MinMaxScaler"
   ]
  },
  {
   "cell_type": "code",
   "execution_count": 33,
   "id": "dab2abb6",
   "metadata": {},
   "outputs": [],
   "source": [
    "scalar = MinMaxScaler(feature_range = (0,1))\n",
    "df1 = scalar.fit_transform(np.array(df1).reshape(-1,1))"
   ]
  },
  {
   "cell_type": "code",
   "execution_count": null,
   "id": "37159b35",
   "metadata": {},
   "outputs": [],
   "source": []
  },
  {
   "cell_type": "code",
   "execution_count": 38,
   "id": "aaa7bcd7",
   "metadata": {},
   "outputs": [],
   "source": [
    "training_size         = int(len(df1)*0.65)\n",
    "testing_size          = int(len(df1)) - training_size\n",
    "train_data, test_data = df1[0:training_size,:], df1[training_size:len(df1),:1]"
   ]
  },
  {
   "cell_type": "code",
   "execution_count": 39,
   "id": "8b78edc7",
   "metadata": {},
   "outputs": [
    {
     "data": {
      "text/plain": [
       "((980, 1), (529, 1))"
      ]
     },
     "execution_count": 39,
     "metadata": {},
     "output_type": "execute_result"
    }
   ],
   "source": [
    "train_data.shape, test_data.shape"
   ]
  },
  {
   "cell_type": "code",
   "execution_count": 42,
   "id": "c67c6aac",
   "metadata": {},
   "outputs": [],
   "source": [
    "def create_dataset(dataset, time_step = 1):\n",
    "    dataX, dataY = [], []\n",
    "    for i in range(len(dataset)-time_step-1):\n",
    "        a = dataset[i:(i+time_step), 0]\n",
    "        dataX.append(a)\n",
    "        dataY.append(dataset[i+time_step, 0])\n",
    "    return np.array(dataX), np.array(dataY)"
   ]
  },
  {
   "cell_type": "code",
   "execution_count": 43,
   "id": "7f9cc2e1",
   "metadata": {},
   "outputs": [],
   "source": [
    "time_step = 100\n",
    "x_train, y_train = create_dataset(train_data, time_step)\n",
    "x_test, y_test = create_dataset(test_data, time_step)"
   ]
  },
  {
   "cell_type": "code",
   "execution_count": 44,
   "id": "e4af248a",
   "metadata": {},
   "outputs": [
    {
     "name": "stdout",
     "output_type": "stream",
     "text": [
      "(879, 100)\n",
      "(879,)\n"
     ]
    },
    {
     "data": {
      "text/plain": [
       "(None, None)"
      ]
     },
     "execution_count": 44,
     "metadata": {},
     "output_type": "execute_result"
    }
   ],
   "source": [
    "print(x_train.shape), print(y_train.shape)"
   ]
  },
  {
   "cell_type": "markdown",
   "id": "8a8bb286",
   "metadata": {},
   "source": [
    "#### LSTM(input_shape, time_step, feature)"
   ]
  },
  {
   "cell_type": "code",
   "execution_count": 45,
   "id": "ab929905",
   "metadata": {},
   "outputs": [],
   "source": [
    "x_train = x_train.reshape(x_train.shape[0], x_train.shape[1], 1)\n",
    "x_test  = x_test.reshape(x_test.shape[0], x_test.shape[1], 1)"
   ]
  },
  {
   "cell_type": "code",
   "execution_count": 48,
   "id": "d416d678",
   "metadata": {},
   "outputs": [],
   "source": [
    "from tensorflow.keras.models import Sequential\n",
    "from tensorflow.keras.layers import Dense, LSTM"
   ]
  },
  {
   "cell_type": "code",
   "execution_count": 52,
   "id": "dd3121a0",
   "metadata": {},
   "outputs": [],
   "source": [
    "model = Sequential([\n",
    "    LSTM(50, input_shape = (100,1), return_sequences = True),\n",
    "    LSTM(50, return_sequences = True),\n",
    "    LSTM(50),\n",
    "    Dense(1)\n",
    "])"
   ]
  },
  {
   "cell_type": "code",
   "execution_count": 53,
   "id": "26854626",
   "metadata": {},
   "outputs": [
    {
     "name": "stdout",
     "output_type": "stream",
     "text": [
      "Model: \"sequential\"\n",
      "_________________________________________________________________\n",
      " Layer (type)                Output Shape              Param #   \n",
      "=================================================================\n",
      " lstm_3 (LSTM)               (None, 100, 50)           10400     \n",
      "                                                                 \n",
      " lstm_4 (LSTM)               (None, 100, 50)           20200     \n",
      "                                                                 \n",
      " lstm_5 (LSTM)               (None, 50)                20200     \n",
      "                                                                 \n",
      " dense_2 (Dense)             (None, 1)                 51        \n",
      "                                                                 \n",
      "=================================================================\n",
      "Total params: 50851 (198.64 KB)\n",
      "Trainable params: 50851 (198.64 KB)\n",
      "Non-trainable params: 0 (0.00 Byte)\n",
      "_________________________________________________________________\n"
     ]
    }
   ],
   "source": [
    "model.summary()"
   ]
  },
  {
   "cell_type": "code",
   "execution_count": 54,
   "id": "547e7515",
   "metadata": {},
   "outputs": [],
   "source": [
    "model.compile(loss='mean_squared_error',optimizer='adam')"
   ]
  },
  {
   "cell_type": "code",
   "execution_count": 57,
   "id": "e454858d",
   "metadata": {},
   "outputs": [
    {
     "name": "stdout",
     "output_type": "stream",
     "text": [
      "Epoch 1/20\n",
      "14/14 [==============================] - 12s 323ms/step - loss: 0.0332 - val_loss: 7.2039e-04\n",
      "Epoch 2/20\n",
      "14/14 [==============================] - 2s 166ms/step - loss: 0.0112 - val_loss: 4.1007e-04\n",
      "Epoch 3/20\n",
      "14/14 [==============================] - 2s 167ms/step - loss: 0.0085 - val_loss: 3.5627e-04\n",
      "Epoch 4/20\n",
      "14/14 [==============================] - 2s 166ms/step - loss: 0.0075 - val_loss: 4.4401e-04\n",
      "Epoch 5/20\n",
      "14/14 [==============================] - 2s 179ms/step - loss: 0.0067 - val_loss: 6.0240e-04\n",
      "Epoch 6/20\n",
      "14/14 [==============================] - 2s 172ms/step - loss: 0.0062 - val_loss: 3.0788e-04\n",
      "Epoch 7/20\n",
      "14/14 [==============================] - 3s 182ms/step - loss: 0.0054 - val_loss: 3.0077e-04\n",
      "Epoch 8/20\n",
      "14/14 [==============================] - 3s 184ms/step - loss: 0.0047 - val_loss: 4.0599e-04\n",
      "Epoch 9/20\n",
      "14/14 [==============================] - 3s 184ms/step - loss: 0.0042 - val_loss: 4.4103e-04\n",
      "Epoch 10/20\n",
      "14/14 [==============================] - 3s 189ms/step - loss: 0.0040 - val_loss: 6.4382e-04\n",
      "Epoch 11/20\n",
      "14/14 [==============================] - 2s 173ms/step - loss: 0.0037 - val_loss: 4.1327e-04\n",
      "Epoch 12/20\n",
      "14/14 [==============================] - 2s 179ms/step - loss: 0.0033 - val_loss: 3.6259e-04\n",
      "Epoch 13/20\n",
      "14/14 [==============================] - 3s 186ms/step - loss: 0.0028 - val_loss: 3.7732e-04\n",
      "Epoch 14/20\n",
      "14/14 [==============================] - 2s 167ms/step - loss: 0.0026 - val_loss: 2.5414e-04\n",
      "Epoch 15/20\n",
      "14/14 [==============================] - 2s 166ms/step - loss: 0.0029 - val_loss: 2.1451e-04\n",
      "Epoch 16/20\n",
      "14/14 [==============================] - 2s 167ms/step - loss: 0.0028 - val_loss: 5.1091e-04\n",
      "Epoch 17/20\n",
      "14/14 [==============================] - 2s 181ms/step - loss: 0.0023 - val_loss: 2.6566e-04\n",
      "Epoch 18/20\n",
      "14/14 [==============================] - 3s 196ms/step - loss: 0.0024 - val_loss: 2.4807e-04\n",
      "Epoch 19/20\n",
      "14/14 [==============================] - 2s 167ms/step - loss: 0.0035 - val_loss: 4.1573e-04\n",
      "Epoch 20/20\n",
      "14/14 [==============================] - 2s 162ms/step - loss: 0.0028 - val_loss: 4.9616e-04\n"
     ]
    },
    {
     "data": {
      "text/plain": [
       "<keras.src.callbacks.History at 0x7fdddc7dbd90>"
      ]
     },
     "execution_count": 57,
     "metadata": {},
     "output_type": "execute_result"
    }
   ],
   "source": [
    "model.fit(x_train,y_train,validation_data=(x_test,y_test),epochs=20,batch_size=64,verbose=1)"
   ]
  },
  {
   "cell_type": "code",
   "execution_count": 58,
   "id": "1ca64928",
   "metadata": {},
   "outputs": [
    {
     "name": "stdout",
     "output_type": "stream",
     "text": [
      "28/28 [==============================] - 3s 40ms/step\n",
      "14/14 [==============================] - 1s 43ms/step\n"
     ]
    }
   ],
   "source": [
    "train_pred  =  model.predict(x_train)\n",
    "test_pred   =  model.predict(x_test)"
   ]
  },
  {
   "cell_type": "code",
   "execution_count": 59,
   "id": "de2e2f8c",
   "metadata": {},
   "outputs": [],
   "source": [
    "train_pred = scalar.inverse_transform(train_pred)\n",
    "test_pred  = scalar.inverse_transform(test_pred)"
   ]
  },
  {
   "cell_type": "code",
   "execution_count": 62,
   "id": "3312bc18",
   "metadata": {},
   "outputs": [
    {
     "data": {
      "image/png": "[encoded data removed]",
      "text/plain": [
       "<Figure size 640x480 with 1 Axes>"
      ]
     },
     "metadata": {},
     "output_type": "display_data"
    }
   ],
   "source": [
    "### Plotting \n",
    "# shift train predictions for plotting\n",
    "look_back=100\n",
    "trainPredictPlot = np.empty_like(df1)\n",
    "trainPredictPlot[:, :] = np.nan\n",
    "trainPredictPlot[look_back:len(train_pred)+look_back, :] = train_pred\n",
    "# shift test predictions for plotting\n",
    "testPredictPlot = np.empty_like(df1)\n",
    "testPredictPlot[:, :] = np.nan\n",
    "testPredictPlot[len(train_pred)+(look_back*2)+1:len(df1)-1, :] = test_pred\n",
    "# plot baseline and predictions\n",
    "plt.plot(scalar.inverse_transform(df1))\n",
    "plt.plot(trainPredictPlot)\n",
    "plt.plot(testPredictPlot)\n",
    "plt.show()"
   ]
  },
  {
   "cell_type": "code",
   "execution_count": null,
   "id": "d83cd409",
   "metadata": {},
   "outputs": [],
   "source": []
  }
 ],
 "metadata": {
  "kernelspec": {
   "display_name": "Python 3 (ipykernel)",
   "language": "python",
   "name": "python3"
  },
  "language_info": {
   "codemirror_mode": {
    "name": "ipython",
    "version": 3
   },
   "file_extension": ".py",
   "mimetype": "text/x-python",
   "name": "python",
   "nbconvert_exporter": "python",
   "pygments_lexer": "ipython3",
   "version": "3.11.5"
  }
 },
 "nbformat": 4,
 "nbformat_minor": 5
}
